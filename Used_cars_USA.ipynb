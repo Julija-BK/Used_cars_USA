{
 "cells": [
  {
   "cell_type": "code",
   "execution_count": 1,
   "metadata": {},
   "outputs": [],
   "source": [
    "import numpy as np\n",
    "import pandas as pd\n",
    "import seaborn as sns\n",
    "from scipy import stats\n",
    "import matplotlib.pyplot as plt\n",
    "from sklearn.preprocessing import StandardScaler\n",
    "from sklearn.cluster import KMeans\n",
    "import statsmodels.formula.api as smf\n",
    "from sklearn.model_selection import train_test_split\n",
    "from sklearn.linear_model import LinearRegression\n",
    "%matplotlib inline"
   ]
  },
  {
   "cell_type": "code",
   "execution_count": 28,
   "metadata": {},
   "outputs": [],
   "source": [
    "data = pd.read_csv('Output_used_cars_craigslist.csv', sep=';')"
   ]
  },
  {
   "cell_type": "code",
   "execution_count": 29,
   "metadata": {},
   "outputs": [
    {
     "data": {
      "text/plain": [
       "1.679607"
      ]
     },
     "execution_count": 29,
     "metadata": {},
     "output_type": "execute_result"
    }
   ],
   "source": [
    "len(data)/1000000"
   ]
  },
  {
   "cell_type": "code",
   "execution_count": 30,
   "metadata": {},
   "outputs": [
    {
     "data": {
      "text/html": [
       "<div>\n",
       "<style scoped>\n",
       "    .dataframe tbody tr th:only-of-type {\n",
       "        vertical-align: middle;\n",
       "    }\n",
       "\n",
       "    .dataframe tbody tr th {\n",
       "        vertical-align: top;\n",
       "    }\n",
       "\n",
       "    .dataframe thead th {\n",
       "        text-align: right;\n",
       "    }\n",
       "</style>\n",
       "<table border=\"1\" class=\"dataframe\">\n",
       "  <thead>\n",
       "    <tr style=\"text-align: right;\">\n",
       "      <th></th>\n",
       "      <th>state_name</th>\n",
       "      <th>city</th>\n",
       "      <th>manufacturer</th>\n",
       "      <th>year</th>\n",
       "      <th>price</th>\n",
       "      <th>make</th>\n",
       "      <th>condition</th>\n",
       "      <th>cylinders</th>\n",
       "      <th>fuel</th>\n",
       "      <th>odometer</th>\n",
       "      <th>...</th>\n",
       "      <th>size</th>\n",
       "      <th>type</th>\n",
       "      <th>paint_color</th>\n",
       "      <th>lat</th>\n",
       "      <th>long</th>\n",
       "      <th>county_fips</th>\n",
       "      <th>county_name</th>\n",
       "      <th>state_fips</th>\n",
       "      <th>state_code</th>\n",
       "      <th>weather</th>\n",
       "    </tr>\n",
       "  </thead>\n",
       "  <tbody>\n",
       "    <tr>\n",
       "      <th>0</th>\n",
       "      <td>FAILED</td>\n",
       "      <td>montreal</td>\n",
       "      <td>Undefined</td>\n",
       "      <td>1967-01-01</td>\n",
       "      <td>16500</td>\n",
       "      <td>Corvair stinger</td>\n",
       "      <td>NaN</td>\n",
       "      <td>NaN</td>\n",
       "      <td>NaN</td>\n",
       "      <td>NaN</td>\n",
       "      <td>...</td>\n",
       "      <td>NaN</td>\n",
       "      <td>NaN</td>\n",
       "      <td>NaN</td>\n",
       "      <td>45,597425</td>\n",
       "      <td>-73,563924</td>\n",
       "      <td>NaN</td>\n",
       "      <td>NaN</td>\n",
       "      <td>NaN</td>\n",
       "      <td>NaN</td>\n",
       "      <td>NaN</td>\n",
       "    </tr>\n",
       "    <tr>\n",
       "      <th>1</th>\n",
       "      <td>FAILED</td>\n",
       "      <td>montreal</td>\n",
       "      <td>Undefined</td>\n",
       "      <td>2001-01-01</td>\n",
       "      <td>10499</td>\n",
       "      <td>Oldsmobile Aurora</td>\n",
       "      <td>NaN</td>\n",
       "      <td>NaN</td>\n",
       "      <td>NaN</td>\n",
       "      <td>NaN</td>\n",
       "      <td>...</td>\n",
       "      <td>NaN</td>\n",
       "      <td>NaN</td>\n",
       "      <td>NaN</td>\n",
       "      <td>45,504822</td>\n",
       "      <td>-73,664273</td>\n",
       "      <td>NaN</td>\n",
       "      <td>NaN</td>\n",
       "      <td>NaN</td>\n",
       "      <td>NaN</td>\n",
       "      <td>NaN</td>\n",
       "    </tr>\n",
       "    <tr>\n",
       "      <th>2</th>\n",
       "      <td>FAILED</td>\n",
       "      <td>montreal</td>\n",
       "      <td>Undefined</td>\n",
       "      <td>2001-01-01</td>\n",
       "      <td>10499</td>\n",
       "      <td>Oldsmobile Aurora</td>\n",
       "      <td>NaN</td>\n",
       "      <td>NaN</td>\n",
       "      <td>NaN</td>\n",
       "      <td>NaN</td>\n",
       "      <td>...</td>\n",
       "      <td>NaN</td>\n",
       "      <td>NaN</td>\n",
       "      <td>NaN</td>\n",
       "      <td>45,504822</td>\n",
       "      <td>-73,664273</td>\n",
       "      <td>NaN</td>\n",
       "      <td>NaN</td>\n",
       "      <td>NaN</td>\n",
       "      <td>NaN</td>\n",
       "      <td>NaN</td>\n",
       "    </tr>\n",
       "    <tr>\n",
       "      <th>3</th>\n",
       "      <td>FAILED</td>\n",
       "      <td>montreal</td>\n",
       "      <td>Undefined</td>\n",
       "      <td>2002-01-01</td>\n",
       "      <td>14888</td>\n",
       "      <td>77241</td>\n",
       "      <td>NaN</td>\n",
       "      <td>NaN</td>\n",
       "      <td>NaN</td>\n",
       "      <td>NaN</td>\n",
       "      <td>...</td>\n",
       "      <td>NaN</td>\n",
       "      <td>NaN</td>\n",
       "      <td>NaN</td>\n",
       "      <td>45,358469</td>\n",
       "      <td>-73,476415</td>\n",
       "      <td>NaN</td>\n",
       "      <td>NaN</td>\n",
       "      <td>NaN</td>\n",
       "      <td>NaN</td>\n",
       "      <td>NaN</td>\n",
       "    </tr>\n",
       "    <tr>\n",
       "      <th>4</th>\n",
       "      <td>FAILED</td>\n",
       "      <td>montreal</td>\n",
       "      <td>Undefined</td>\n",
       "      <td>2003-01-01</td>\n",
       "      <td>2800</td>\n",
       "      <td>Accord 2003</td>\n",
       "      <td>NaN</td>\n",
       "      <td>NaN</td>\n",
       "      <td>NaN</td>\n",
       "      <td>NaN</td>\n",
       "      <td>...</td>\n",
       "      <td>NaN</td>\n",
       "      <td>NaN</td>\n",
       "      <td>NaN</td>\n",
       "      <td>45,500616</td>\n",
       "      <td>-73,787199</td>\n",
       "      <td>NaN</td>\n",
       "      <td>NaN</td>\n",
       "      <td>NaN</td>\n",
       "      <td>NaN</td>\n",
       "      <td>NaN</td>\n",
       "    </tr>\n",
       "  </tbody>\n",
       "</table>\n",
       "<p>5 rows × 24 columns</p>\n",
       "</div>"
      ],
      "text/plain": [
       "  state_name      city manufacturer        year  price               make  \\\n",
       "0     FAILED  montreal    Undefined  1967-01-01  16500    Corvair stinger   \n",
       "1     FAILED  montreal    Undefined  2001-01-01  10499  Oldsmobile Aurora   \n",
       "2     FAILED  montreal    Undefined  2001-01-01  10499  Oldsmobile Aurora   \n",
       "3     FAILED  montreal    Undefined  2002-01-01  14888              77241   \n",
       "4     FAILED  montreal    Undefined  2003-01-01   2800        Accord 2003   \n",
       "\n",
       "  condition cylinders fuel  odometer  ... size type paint_color        lat  \\\n",
       "0       NaN       NaN  NaN       NaN  ...  NaN  NaN         NaN  45,597425   \n",
       "1       NaN       NaN  NaN       NaN  ...  NaN  NaN         NaN  45,504822   \n",
       "2       NaN       NaN  NaN       NaN  ...  NaN  NaN         NaN  45,504822   \n",
       "3       NaN       NaN  NaN       NaN  ...  NaN  NaN         NaN  45,358469   \n",
       "4       NaN       NaN  NaN       NaN  ...  NaN  NaN         NaN  45,500616   \n",
       "\n",
       "         long county_fips county_name state_fips state_code  weather  \n",
       "0  -73,563924         NaN         NaN        NaN        NaN      NaN  \n",
       "1  -73,664273         NaN         NaN        NaN        NaN      NaN  \n",
       "2  -73,664273         NaN         NaN        NaN        NaN      NaN  \n",
       "3  -73,476415         NaN         NaN        NaN        NaN      NaN  \n",
       "4  -73,787199         NaN         NaN        NaN        NaN      NaN  \n",
       "\n",
       "[5 rows x 24 columns]"
      ]
     },
     "execution_count": 30,
     "metadata": {},
     "output_type": "execute_result"
    }
   ],
   "source": [
    "data.head()"
   ]
  },
  {
   "cell_type": "code",
   "execution_count": 31,
   "metadata": {
    "scrolled": true
   },
   "outputs": [
    {
     "name": "stdout",
     "output_type": "stream",
     "text": [
      "<class 'pandas.core.frame.DataFrame'>\n",
      "RangeIndex: 1679607 entries, 0 to 1679606\n",
      "Data columns (total 24 columns):\n",
      "state_name      1679607 non-null object\n",
      "city            1679607 non-null object\n",
      "manufacturer    1679607 non-null object\n",
      "year            1679607 non-null object\n",
      "price           1679607 non-null int64\n",
      "make            1615011 non-null object\n",
      "condition       1000450 non-null object\n",
      "cylinders       1009997 non-null object\n",
      "fuel            1669468 non-null object\n",
      "odometer        1142985 non-null float64\n",
      "title_status    1677081 non-null object\n",
      "transmission    1670619 non-null object\n",
      "vin             595861 non-null object\n",
      "drive           1040192 non-null object\n",
      "size            586613 non-null object\n",
      "type            1000821 non-null object\n",
      "paint_color     1007117 non-null object\n",
      "lat             1679607 non-null object\n",
      "long            1679607 non-null object\n",
      "county_fips     1621052 non-null float64\n",
      "county_name     1621052 non-null object\n",
      "state_fips      1621052 non-null float64\n",
      "state_code      1621052 non-null object\n",
      "weather         1620487 non-null float64\n",
      "dtypes: float64(4), int64(1), object(19)\n",
      "memory usage: 307.5+ MB\n"
     ]
    }
   ],
   "source": [
    "data.info()"
   ]
  },
  {
   "cell_type": "code",
   "execution_count": 32,
   "metadata": {},
   "outputs": [],
   "source": [
    "data['year'] = data['year'].apply(lambda x: int(x[0:4]))"
   ]
  },
  {
   "cell_type": "code",
   "execution_count": 33,
   "metadata": {},
   "outputs": [],
   "source": [
    "data['age'] = 2018 - data['year']"
   ]
  },
  {
   "cell_type": "code",
   "execution_count": 34,
   "metadata": {},
   "outputs": [
    {
     "data": {
      "text/plain": [
       "state_name      0.000000\n",
       "city            0.000000\n",
       "manufacturer    0.000000\n",
       "year            0.000000\n",
       "price           0.000000\n",
       "make            0.038459\n",
       "condition       0.404355\n",
       "cylinders       0.398671\n",
       "fuel            0.006037\n",
       "odometer        0.319493\n",
       "title_status    0.001504\n",
       "transmission    0.005351\n",
       "vin             0.645238\n",
       "drive           0.380693\n",
       "size            0.650744\n",
       "type            0.404134\n",
       "paint_color     0.400385\n",
       "lat             0.000000\n",
       "long            0.000000\n",
       "county_fips     0.034862\n",
       "county_name     0.034862\n",
       "state_fips      0.034862\n",
       "state_code      0.034862\n",
       "weather         0.035199\n",
       "age             0.000000\n",
       "dtype: float64"
      ]
     },
     "execution_count": 34,
     "metadata": {},
     "output_type": "execute_result"
    }
   ],
   "source": [
    "data.isnull().mean()"
   ]
  },
  {
   "cell_type": "code",
   "execution_count": 35,
   "metadata": {},
   "outputs": [
    {
     "data": {
      "text/plain": [
       "vancouver       7965\n",
       "abbotsford      6568\n",
       "whistler        6362\n",
       "victoria        6316\n",
       "nanaimo         5804\n",
       "kelowna         4566\n",
       "comoxvalley     3824\n",
       "kamloops        3593\n",
       "toronto         3241\n",
       "sunshine        2041\n",
       "princegeorge    1477\n",
       "montreal        1057\n",
       "kootenays        772\n",
       "calgary          635\n",
       "edmonton         391\n",
       "cariboo          380\n",
       "ftmcmurray       192\n",
       "ottawa           175\n",
       "quebec           157\n",
       "saskatoon        148\n",
       "winnipeg         113\n",
       "skeena           113\n",
       "peace            102\n",
       "hamilton          96\n",
       "reddeer           70\n",
       "londonon          61\n",
       "peterborough      57\n",
       "brantford         54\n",
       "lethbridge        54\n",
       "guelph            47\n",
       "                ... \n",
       "topeka             1\n",
       "eastoregon         1\n",
       "merced             1\n",
       "missoula           1\n",
       "ashtabula          1\n",
       "mansfield          1\n",
       "chihuahua          1\n",
       "sanantonio         1\n",
       "mohave             1\n",
       "territories        1\n",
       "parkersburg        1\n",
       "lawton             1\n",
       "palmsprings        1\n",
       "charlestonwv       1\n",
       "harrisonburg       1\n",
       "statesboro         1\n",
       "stcloud            1\n",
       "jonesboro          1\n",
       "muncie             1\n",
       "chambana           1\n",
       "twinfalls          1\n",
       "westmd             1\n",
       "kenai              1\n",
       "bgky               1\n",
       "brunswick          1\n",
       "altoona            1\n",
       "salina             1\n",
       "bloomington        1\n",
       "albanyga           1\n",
       "stillwater         1\n",
       "Name: city, Length: 373, dtype: int64"
      ]
     },
     "execution_count": 35,
     "metadata": {},
     "output_type": "execute_result"
    }
   ],
   "source": [
    "data[data['state_name'] == 'FAILED']['city'].value_counts()"
   ]
  },
  {
   "cell_type": "code",
   "execution_count": 36,
   "metadata": {},
   "outputs": [],
   "source": [
    "data.drop(['make', 'condition', 'vin', 'size', 'county_fips', 'state_fips', 'state_code', 'city', 'year', 'title_status', 'lat', 'long', 'county_name'], axis = 1, inplace=True)"
   ]
  },
  {
   "cell_type": "code",
   "execution_count": 37,
   "metadata": {},
   "outputs": [],
   "source": [
    "data = data[data.state_name != 'FAILED']"
   ]
  },
  {
   "cell_type": "code",
   "execution_count": 38,
   "metadata": {},
   "outputs": [
    {
     "data": {
      "text/plain": [
       "state_name      0.000000\n",
       "manufacturer    0.000000\n",
       "price           0.000000\n",
       "cylinders       0.397146\n",
       "fuel            0.005461\n",
       "odometer        0.322794\n",
       "transmission    0.004757\n",
       "drive           0.381724\n",
       "type            0.405210\n",
       "paint_color     0.399079\n",
       "weather         0.000349\n",
       "age             0.000000\n",
       "dtype: float64"
      ]
     },
     "execution_count": 38,
     "metadata": {},
     "output_type": "execute_result"
    }
   ],
   "source": [
    "data.isnull().mean()"
   ]
  },
  {
   "cell_type": "code",
   "execution_count": 39,
   "metadata": {},
   "outputs": [],
   "source": [
    "data.dropna(subset=['odometer', 'transmission', 'fuel', 'cylinders', 'drive', 'type', 'paint_color', 'weather'], inplace = True)"
   ]
  },
  {
   "cell_type": "code",
   "execution_count": 40,
   "metadata": {},
   "outputs": [
    {
     "data": {
      "text/plain": [
       "(537080, 12)"
      ]
     },
     "execution_count": 40,
     "metadata": {},
     "output_type": "execute_result"
    }
   ],
   "source": [
    "data.shape"
   ]
  },
  {
   "cell_type": "code",
   "execution_count": 41,
   "metadata": {},
   "outputs": [
    {
     "data": {
      "text/plain": [
       "count          537080\n",
       "unique              8\n",
       "top       6 cylinders\n",
       "freq           190944\n",
       "Name: cylinders, dtype: object"
      ]
     },
     "execution_count": 41,
     "metadata": {},
     "output_type": "execute_result"
    }
   ],
   "source": [
    "data.cylinders.describe()"
   ]
  },
  {
   "cell_type": "code",
   "execution_count": 42,
   "metadata": {},
   "outputs": [
    {
     "data": {
      "text/plain": [
       "6 cylinders     190944\n",
       "8 cylinders     164886\n",
       "4 cylinders     157287\n",
       "other            14144\n",
       "5 cylinders       5894\n",
       "10 cylinders      2611\n",
       "3 cylinders        880\n",
       "12 cylinders       434\n",
       "Name: cylinders, dtype: int64"
      ]
     },
     "execution_count": 42,
     "metadata": {},
     "output_type": "execute_result"
    }
   ],
   "source": [
    "data['cylinders'].value_counts()"
   ]
  },
  {
   "cell_type": "code",
   "execution_count": 43,
   "metadata": {},
   "outputs": [
    {
     "data": {
      "text/plain": [
       "5.87869218738363"
      ]
     },
     "execution_count": 43,
     "metadata": {},
     "output_type": "execute_result"
    }
   ],
   "source": [
    "(6*190944+8*164886+4*157287+5*5894+10*2611+3*880+12*434)/537080"
   ]
  },
  {
   "cell_type": "code",
   "execution_count": 44,
   "metadata": {},
   "outputs": [],
   "source": [
    "data['cylinders'].replace('other', '6', inplace = True)"
   ]
  },
  {
   "cell_type": "code",
   "execution_count": 45,
   "metadata": {},
   "outputs": [],
   "source": [
    "data['cylinders'] = data['cylinders'].apply(lambda x: int(x.replace('cylinders', '')))"
   ]
  },
  {
   "cell_type": "code",
   "execution_count": 46,
   "metadata": {},
   "outputs": [
    {
     "data": {
      "text/plain": [
       "6     205088\n",
       "8     164886\n",
       "4     157287\n",
       "5       5894\n",
       "10      2611\n",
       "3        880\n",
       "12       434\n",
       "Name: cylinders, dtype: int64"
      ]
     },
     "execution_count": 46,
     "metadata": {},
     "output_type": "execute_result"
    }
   ],
   "source": [
    "data['cylinders'].value_counts()"
   ]
  },
  {
   "cell_type": "code",
   "execution_count": 47,
   "metadata": {},
   "outputs": [
    {
     "name": "stdout",
     "output_type": "stream",
     "text": [
      "<class 'pandas.core.frame.DataFrame'>\n",
      "Int64Index: 537080 entries, 3514 to 1679606\n",
      "Data columns (total 12 columns):\n",
      "state_name      537080 non-null object\n",
      "manufacturer    537080 non-null object\n",
      "price           537080 non-null int64\n",
      "cylinders       537080 non-null int64\n",
      "fuel            537080 non-null object\n",
      "odometer        537080 non-null float64\n",
      "transmission    537080 non-null object\n",
      "drive           537080 non-null object\n",
      "type            537080 non-null object\n",
      "paint_color     537080 non-null object\n",
      "weather         537080 non-null float64\n",
      "age             537080 non-null int64\n",
      "dtypes: float64(2), int64(3), object(7)\n",
      "memory usage: 53.3+ MB\n"
     ]
    }
   ],
   "source": [
    "data.info()"
   ]
  },
  {
   "cell_type": "code",
   "execution_count": 48,
   "metadata": {},
   "outputs": [
    {
     "data": {
      "text/plain": [
       "state_name      0\n",
       "manufacturer    0\n",
       "price           0\n",
       "cylinders       0\n",
       "fuel            0\n",
       "odometer        0\n",
       "transmission    0\n",
       "drive           0\n",
       "type            0\n",
       "paint_color     0\n",
       "weather         0\n",
       "age             0\n",
       "dtype: int64"
      ]
     },
     "execution_count": 48,
     "metadata": {},
     "output_type": "execute_result"
    }
   ],
   "source": [
    "data.isnull().sum()"
   ]
  },
  {
   "cell_type": "code",
   "execution_count": 49,
   "metadata": {},
   "outputs": [
    {
     "data": {
      "text/html": [
       "<div>\n",
       "<style scoped>\n",
       "    .dataframe tbody tr th:only-of-type {\n",
       "        vertical-align: middle;\n",
       "    }\n",
       "\n",
       "    .dataframe tbody tr th {\n",
       "        vertical-align: top;\n",
       "    }\n",
       "\n",
       "    .dataframe thead th {\n",
       "        text-align: right;\n",
       "    }\n",
       "</style>\n",
       "<table border=\"1\" class=\"dataframe\">\n",
       "  <thead>\n",
       "    <tr style=\"text-align: right;\">\n",
       "      <th></th>\n",
       "      <th>price</th>\n",
       "      <th>cylinders</th>\n",
       "      <th>odometer</th>\n",
       "      <th>weather</th>\n",
       "      <th>age</th>\n",
       "    </tr>\n",
       "  </thead>\n",
       "  <tbody>\n",
       "    <tr>\n",
       "      <th>count</th>\n",
       "      <td>537080.000000</td>\n",
       "      <td>537080.000000</td>\n",
       "      <td>5.370800e+05</td>\n",
       "      <td>537080.000000</td>\n",
       "      <td>537080.000000</td>\n",
       "    </tr>\n",
       "    <tr>\n",
       "      <th>mean</th>\n",
       "      <td>11389.924832</td>\n",
       "      <td>6.036702</td>\n",
       "      <td>1.187531e+05</td>\n",
       "      <td>53.173553</td>\n",
       "      <td>11.380321</td>\n",
       "    </tr>\n",
       "    <tr>\n",
       "      <th>std</th>\n",
       "      <td>10632.311076</td>\n",
       "      <td>1.590815</td>\n",
       "      <td>1.425903e+05</td>\n",
       "      <td>7.939122</td>\n",
       "      <td>8.645340</td>\n",
       "    </tr>\n",
       "    <tr>\n",
       "      <th>min</th>\n",
       "      <td>100.000000</td>\n",
       "      <td>3.000000</td>\n",
       "      <td>0.000000e+00</td>\n",
       "      <td>29.000000</td>\n",
       "      <td>-1.000000</td>\n",
       "    </tr>\n",
       "    <tr>\n",
       "      <th>25%</th>\n",
       "      <td>3999.000000</td>\n",
       "      <td>4.000000</td>\n",
       "      <td>6.500000e+04</td>\n",
       "      <td>47.000000</td>\n",
       "      <td>5.000000</td>\n",
       "    </tr>\n",
       "    <tr>\n",
       "      <th>50%</th>\n",
       "      <td>7999.000000</td>\n",
       "      <td>6.000000</td>\n",
       "      <td>1.120000e+05</td>\n",
       "      <td>52.000000</td>\n",
       "      <td>10.000000</td>\n",
       "    </tr>\n",
       "    <tr>\n",
       "      <th>75%</th>\n",
       "      <td>15701.000000</td>\n",
       "      <td>8.000000</td>\n",
       "      <td>1.561000e+05</td>\n",
       "      <td>59.000000</td>\n",
       "      <td>15.000000</td>\n",
       "    </tr>\n",
       "    <tr>\n",
       "      <th>max</th>\n",
       "      <td>235000.000000</td>\n",
       "      <td>12.000000</td>\n",
       "      <td>1.000000e+07</td>\n",
       "      <td>79.000000</td>\n",
       "      <td>68.000000</td>\n",
       "    </tr>\n",
       "  </tbody>\n",
       "</table>\n",
       "</div>"
      ],
      "text/plain": [
       "               price      cylinders      odometer        weather  \\\n",
       "count  537080.000000  537080.000000  5.370800e+05  537080.000000   \n",
       "mean    11389.924832       6.036702  1.187531e+05      53.173553   \n",
       "std     10632.311076       1.590815  1.425903e+05       7.939122   \n",
       "min       100.000000       3.000000  0.000000e+00      29.000000   \n",
       "25%      3999.000000       4.000000  6.500000e+04      47.000000   \n",
       "50%      7999.000000       6.000000  1.120000e+05      52.000000   \n",
       "75%     15701.000000       8.000000  1.561000e+05      59.000000   \n",
       "max    235000.000000      12.000000  1.000000e+07      79.000000   \n",
       "\n",
       "                 age  \n",
       "count  537080.000000  \n",
       "mean       11.380321  \n",
       "std         8.645340  \n",
       "min        -1.000000  \n",
       "25%         5.000000  \n",
       "50%        10.000000  \n",
       "75%        15.000000  \n",
       "max        68.000000  "
      ]
     },
     "execution_count": 49,
     "metadata": {},
     "output_type": "execute_result"
    }
   ],
   "source": [
    "data.describe()"
   ]
  },
  {
   "cell_type": "code",
   "execution_count": 50,
   "metadata": {},
   "outputs": [
    {
     "data": {
      "text/plain": [
       "<matplotlib.axes._subplots.AxesSubplot at 0x15c0f79e1d0>"
      ]
     },
     "execution_count": 50,
     "metadata": {},
     "output_type": "execute_result"
    },
    {
     "data": {
      "image/png": "[encoded data removed]",
      "text/plain": [
       "<Figure size 432x288 with 1 Axes>"
      ]
     },
     "metadata": {
      "needs_background": "light"
     },
     "output_type": "display_data"
    }
   ],
   "source": [
    "sns.distplot(data['price'])"
   ]
  },
  {
   "cell_type": "code",
   "execution_count": 51,
   "metadata": {},
   "outputs": [],
   "source": [
    "data['price_log'] = np.log(data['price'])"
   ]
  },
  {
   "cell_type": "code",
   "execution_count": 52,
   "metadata": {},
   "outputs": [
    {
     "data": {
      "text/plain": [
       "<matplotlib.axes._subplots.AxesSubplot at 0x15c12fc2a20>"
      ]
     },
     "execution_count": 52,
     "metadata": {},
     "output_type": "execute_result"
    },
    {
     "data": {
      "image/png": "[encoded data removed]",
      "text/plain": [
       "<Figure size 432x288 with 1 Axes>"
      ]
     },
     "metadata": {
      "needs_background": "light"
     },
     "output_type": "display_data"
    }
   ],
   "source": [
    "sns.distplot(data['price_log'])"
   ]
  },
  {
   "cell_type": "code",
   "execution_count": 53,
   "metadata": {
    "scrolled": true
   },
   "outputs": [
    {
     "data": {
      "text/plain": [
       "<matplotlib.axes._subplots.AxesSubplot at 0x15c1309d588>"
      ]
     },
     "execution_count": 53,
     "metadata": {},
     "output_type": "execute_result"
    },
    {
     "data": {
      "image/png": "[encoded data removed]",
      "text/plain": [
       "<Figure size 432x288 with 2 Axes>"
      ]
     },
     "metadata": {
      "needs_background": "light"
     },
     "output_type": "display_data"
    }
   ],
   "source": [
    "sns.heatmap(data.corr(), annot = True)"
   ]
  },
  {
   "cell_type": "code",
   "execution_count": 54,
   "metadata": {},
   "outputs": [
    {
     "data": {
      "text/plain": [
       "<seaborn.axisgrid.PairGrid at 0x15c13128a58>"
      ]
     },
     "execution_count": 54,
     "metadata": {},
     "output_type": "execute_result"
    },
    {
     "data": {
      "image/png": "[encoded data removed]",
      "text/plain": [
       "<Figure size 2160x720 with 3 Axes>"
      ]
     },
     "metadata": {
      "needs_background": "light"
     },
     "output_type": "display_data"
    }
   ],
   "source": [
    "sns.pairplot(data.sample(10000), height = 10,\n",
    "             y_vars = ['price'],\n",
    "             x_vars = ['age', 'cylinders', 'odometer'])"
   ]
  },
  {
   "cell_type": "markdown",
   "metadata": {},
   "source": [
    "TIESINE REGRESIJA"
   ]
  },
  {
   "cell_type": "code",
   "execution_count": 61,
   "metadata": {},
   "outputs": [],
   "source": [
    "feature_cols = ['age', 'odometer', 'cylinders']"
   ]
  },
  {
   "cell_type": "code",
   "execution_count": 62,
   "metadata": {},
   "outputs": [],
   "source": [
    "X = data[feature_cols]\n",
    "y = data[['price_log']]"
   ]
  },
  {
   "cell_type": "code",
   "execution_count": 63,
   "metadata": {},
   "outputs": [],
   "source": [
    "X_train, X_test, y_train, y_test = train_test_split(X,y,test_size = 0.2)"
   ]
  },
  {
   "cell_type": "code",
   "execution_count": 64,
   "metadata": {},
   "outputs": [],
   "source": [
    "linear = LinearRegression() "
   ]
  },
  {
   "cell_type": "code",
   "execution_count": 65,
   "metadata": {},
   "outputs": [
    {
     "name": "stdout",
     "output_type": "stream",
     "text": [
      "0.3285227635195083\n"
     ]
    }
   ],
   "source": [
    "linear.fit(X_train, y_train)\n",
    "accuracy = linear.score(X_test, y_test)\n",
    "print(accuracy)"
   ]
  },
  {
   "cell_type": "code",
   "execution_count": 66,
   "metadata": {},
   "outputs": [
    {
     "name": "stdout",
     "output_type": "stream",
     "text": [
      "[8.56729662]\n",
      "[[-5.44425781e-02 -1.25475460e-06  1.87914025e-01]]\n"
     ]
    }
   ],
   "source": [
    "print(linear.intercept_)\n",
    "print(linear.coef_)"
   ]
  },
  {
   "cell_type": "code",
   "execution_count": 67,
   "metadata": {},
   "outputs": [],
   "source": [
    "predictions = linear.predict(X_test)"
   ]
  },
  {
   "cell_type": "code",
   "execution_count": 73,
   "metadata": {},
   "outputs": [
    {
     "data": {
      "text/plain": [
       "array([[7.46723001],\n",
       "       [6.8016903 ],\n",
       "       [8.52480183],\n",
       "       ...,\n",
       "       [9.112538  ],\n",
       "       [9.04542489],\n",
       "       [9.13774728]])"
      ]
     },
     "execution_count": 73,
     "metadata": {},
     "output_type": "execute_result"
    }
   ],
   "source": [
    "predictions"
   ]
  },
  {
   "cell_type": "code",
   "execution_count": 68,
   "metadata": {},
   "outputs": [
    {
     "data": {
      "text/plain": [
       "<matplotlib.axes._subplots.AxesSubplot at 0x15c1328a940>"
      ]
     },
     "execution_count": 68,
     "metadata": {},
     "output_type": "execute_result"
    },
    {
     "data": {
      "image/png": "[encoded data removed]",
      "text/plain": [
       "<Figure size 432x288 with 1 Axes>"
      ]
     },
     "metadata": {
      "needs_background": "light"
     },
     "output_type": "display_data"
    }
   ],
   "source": [
    "sns.distplot(y_test - predictions, bins = 15)"
   ]
  },
  {
   "cell_type": "code",
   "execution_count": 71,
   "metadata": {},
   "outputs": [],
   "source": [
    "est = smf.ols('price_log ~ age + odometer + cylinders', data).fit()"
   ]
  },
  {
   "cell_type": "code",
   "execution_count": 72,
   "metadata": {},
   "outputs": [
    {
     "data": {
      "text/html": [
       "<table class=\"simpletable\">\n",
       "<caption>OLS Regression Results</caption>\n",
       "<tr>\n",
       "  <th>Dep. Variable:</th>        <td>price_log</td>    <th>  R-squared:         </th>  <td>   0.324</td>  \n",
       "</tr>\n",
       "<tr>\n",
       "  <th>Model:</th>                   <td>OLS</td>       <th>  Adj. R-squared:    </th>  <td>   0.324</td>  \n",
       "</tr>\n",
       "<tr>\n",
       "  <th>Method:</th>             <td>Least Squares</td>  <th>  F-statistic:       </th>  <td>8.571e+04</td> \n",
       "</tr>\n",
       "<tr>\n",
       "  <th>Date:</th>             <td>Wed, 28 Aug 2019</td> <th>  Prob (F-statistic):</th>   <td>  0.00</td>   \n",
       "</tr>\n",
       "<tr>\n",
       "  <th>Time:</th>                 <td>18:32:15</td>     <th>  Log-Likelihood:    </th> <td>-6.4116e+05</td>\n",
       "</tr>\n",
       "<tr>\n",
       "  <th>No. Observations:</th>      <td>537080</td>      <th>  AIC:               </th>  <td>1.282e+06</td> \n",
       "</tr>\n",
       "<tr>\n",
       "  <th>Df Residuals:</th>          <td>537076</td>      <th>  BIC:               </th>  <td>1.282e+06</td> \n",
       "</tr>\n",
       "<tr>\n",
       "  <th>Df Model:</th>              <td>     3</td>      <th>                     </th>      <td> </td>     \n",
       "</tr>\n",
       "<tr>\n",
       "  <th>Covariance Type:</th>      <td>nonrobust</td>    <th>                     </th>      <td> </td>     \n",
       "</tr>\n",
       "</table>\n",
       "<table class=\"simpletable\">\n",
       "<tr>\n",
       "      <td></td>         <th>coef</th>     <th>std err</th>      <th>t</th>      <th>P>|t|</th>  <th>[0.025</th>    <th>0.975]</th>  \n",
       "</tr>\n",
       "<tr>\n",
       "  <th>Intercept</th> <td>    8.5667</td> <td>    0.004</td> <td> 1971.110</td> <td> 0.000</td> <td>    8.558</td> <td>    8.575</td>\n",
       "</tr>\n",
       "<tr>\n",
       "  <th>age</th>       <td>   -0.0544</td> <td>    0.000</td> <td> -416.284</td> <td> 0.000</td> <td>   -0.055</td> <td>   -0.054</td>\n",
       "</tr>\n",
       "<tr>\n",
       "  <th>odometer</th>  <td>-1.275e-06</td> <td> 7.76e-09</td> <td> -164.411</td> <td> 0.000</td> <td>-1.29e-06</td> <td>-1.26e-06</td>\n",
       "</tr>\n",
       "<tr>\n",
       "  <th>cylinders</th> <td>    0.1883</td> <td>    0.001</td> <td>  268.495</td> <td> 0.000</td> <td>    0.187</td> <td>    0.190</td>\n",
       "</tr>\n",
       "</table>\n",
       "<table class=\"simpletable\">\n",
       "<tr>\n",
       "  <th>Omnibus:</th>       <td>93819.157</td> <th>  Durbin-Watson:     </th>  <td>   1.063</td>  \n",
       "</tr>\n",
       "<tr>\n",
       "  <th>Prob(Omnibus):</th>  <td> 0.000</td>   <th>  Jarque-Bera (JB):  </th> <td>1987687.706</td>\n",
       "</tr>\n",
       "<tr>\n",
       "  <th>Skew:</th>           <td> 0.209</td>   <th>  Prob(JB):          </th>  <td>    0.00</td>  \n",
       "</tr>\n",
       "<tr>\n",
       "  <th>Kurtosis:</th>       <td>12.415</td>   <th>  Cond. No.          </th>  <td>7.48e+05</td>  \n",
       "</tr>\n",
       "</table><br/><br/>Warnings:<br/>[1] Standard Errors assume that the covariance matrix of the errors is correctly specified.<br/>[2] The condition number is large, 7.48e+05. This might indicate that there are<br/>strong multicollinearity or other numerical problems."
      ],
      "text/plain": [
       "<class 'statsmodels.iolib.summary.Summary'>\n",
       "\"\"\"\n",
       "                            OLS Regression Results                            \n",
       "==============================================================================\n",
       "Dep. Variable:              price_log   R-squared:                       0.324\n",
       "Model:                            OLS   Adj. R-squared:                  0.324\n",
       "Method:                 Least Squares   F-statistic:                 8.571e+04\n",
       "Date:                Wed, 28 Aug 2019   Prob (F-statistic):               0.00\n",
       "Time:                        18:32:15   Log-Likelihood:            -6.4116e+05\n",
       "No. Observations:              537080   AIC:                         1.282e+06\n",
       "Df Residuals:                  537076   BIC:                         1.282e+06\n",
       "Df Model:                           3                                         \n",
       "Covariance Type:            nonrobust                                         \n",
       "==============================================================================\n",
       "                 coef    std err          t      P>|t|      [0.025      0.975]\n",
       "------------------------------------------------------------------------------\n",
       "Intercept      8.5667      0.004   1971.110      0.000       8.558       8.575\n",
       "age           -0.0544      0.000   -416.284      0.000      -0.055      -0.054\n",
       "odometer   -1.275e-06   7.76e-09   -164.411      0.000   -1.29e-06   -1.26e-06\n",
       "cylinders      0.1883      0.001    268.495      0.000       0.187       0.190\n",
       "==============================================================================\n",
       "Omnibus:                    93819.157   Durbin-Watson:                   1.063\n",
       "Prob(Omnibus):                  0.000   Jarque-Bera (JB):          1987687.706\n",
       "Skew:                           0.209   Prob(JB):                         0.00\n",
       "Kurtosis:                      12.415   Cond. No.                     7.48e+05\n",
       "==============================================================================\n",
       "\n",
       "Warnings:\n",
       "[1] Standard Errors assume that the covariance matrix of the errors is correctly specified.\n",
       "[2] The condition number is large, 7.48e+05. This might indicate that there are\n",
       "strong multicollinearity or other numerical problems.\n",
       "\"\"\""
      ]
     },
     "execution_count": 72,
     "metadata": {},
     "output_type": "execute_result"
    }
   ],
   "source": [
    "est.summary()"
   ]
  },
  {
   "cell_type": "markdown",
   "metadata": {},
   "source": [
    "KLASTERIZAVIMAS"
   ]
  },
  {
   "cell_type": "code",
   "execution_count": 46,
   "metadata": {},
   "outputs": [],
   "source": [
    "data_conv = data.copy()"
   ]
  },
  {
   "cell_type": "code",
   "execution_count": 47,
   "metadata": {},
   "outputs": [],
   "source": [
    "#darom damius state_name, manufacturer,fuel, transmission,  drive, type, paint_color \n",
    "# nedarom states nes pakimba kompas...\n",
    "# state_names = pd.get_dummies(data_conv['state_name'], prefix = 'state_name', drop_first=True)\n",
    "# manufacturers = pd.get_dummies(data_conv['manufacturer'], prefix = 'manufacturer', drop_first=True)\n",
    "fuels = pd.get_dummies(data_conv['fuel'], prefix = 'fuel', drop_first=True)\n",
    "transmissions = pd.get_dummies(data_conv['transmission'], prefix = 'transmission', drop_first=True)\n",
    "drives = pd.get_dummies(data_conv['drive'], prefix = 'drive', drop_first=True)\n",
    "types = pd.get_dummies(data_conv['type'], prefix = 'type', drop_first=True)\n",
    "paint_colors = pd.get_dummies(data_conv['paint_color'], prefix = 'paint_color', drop_first=True)"
   ]
  },
  {
   "cell_type": "code",
   "execution_count": 48,
   "metadata": {},
   "outputs": [],
   "source": [
    "data_conv = pd.concat([data_conv, fuels, transmissions, drives, types, paint_colors], axis = 1)"
   ]
  },
  {
   "cell_type": "code",
   "execution_count": 49,
   "metadata": {},
   "outputs": [
    {
     "data": {
      "text/plain": [
       "(537080, 44)"
      ]
     },
     "execution_count": 49,
     "metadata": {},
     "output_type": "execute_result"
    }
   ],
   "source": [
    "data_conv.shape"
   ]
  },
  {
   "cell_type": "code",
   "execution_count": 50,
   "metadata": {},
   "outputs": [],
   "source": [
    "data_conv.drop(['state_name', 'manufacturer', 'fuel', 'transmission', 'drive', 'type', 'paint_color'], axis = 1, inplace = True)"
   ]
  },
  {
   "cell_type": "code",
   "execution_count": 51,
   "metadata": {},
   "outputs": [
    {
     "data": {
      "text/html": [
       "<div>\n",
       "<style scoped>\n",
       "    .dataframe tbody tr th:only-of-type {\n",
       "        vertical-align: middle;\n",
       "    }\n",
       "\n",
       "    .dataframe tbody tr th {\n",
       "        vertical-align: top;\n",
       "    }\n",
       "\n",
       "    .dataframe thead th {\n",
       "        text-align: right;\n",
       "    }\n",
       "</style>\n",
       "<table border=\"1\" class=\"dataframe\">\n",
       "  <thead>\n",
       "    <tr style=\"text-align: right;\">\n",
       "      <th></th>\n",
       "      <th>price</th>\n",
       "      <th>cylinders</th>\n",
       "      <th>odometer</th>\n",
       "      <th>weather</th>\n",
       "      <th>age</th>\n",
       "      <th>price_log</th>\n",
       "      <th>fuel_electric</th>\n",
       "      <th>fuel_gas</th>\n",
       "      <th>fuel_hybrid</th>\n",
       "      <th>fuel_other</th>\n",
       "      <th>...</th>\n",
       "      <th>paint_color_brown</th>\n",
       "      <th>paint_color_custom</th>\n",
       "      <th>paint_color_green</th>\n",
       "      <th>paint_color_grey</th>\n",
       "      <th>paint_color_orange</th>\n",
       "      <th>paint_color_purple</th>\n",
       "      <th>paint_color_red</th>\n",
       "      <th>paint_color_silver</th>\n",
       "      <th>paint_color_white</th>\n",
       "      <th>paint_color_yellow</th>\n",
       "    </tr>\n",
       "  </thead>\n",
       "  <tbody>\n",
       "    <tr>\n",
       "      <th>3514</th>\n",
       "      <td>11900</td>\n",
       "      <td>6</td>\n",
       "      <td>43600.0</td>\n",
       "      <td>38.0</td>\n",
       "      <td>8</td>\n",
       "      <td>9.384294</td>\n",
       "      <td>0</td>\n",
       "      <td>1</td>\n",
       "      <td>0</td>\n",
       "      <td>0</td>\n",
       "      <td>...</td>\n",
       "      <td>0</td>\n",
       "      <td>0</td>\n",
       "      <td>0</td>\n",
       "      <td>0</td>\n",
       "      <td>0</td>\n",
       "      <td>0</td>\n",
       "      <td>1</td>\n",
       "      <td>0</td>\n",
       "      <td>0</td>\n",
       "      <td>0</td>\n",
       "    </tr>\n",
       "    <tr>\n",
       "      <th>3517</th>\n",
       "      <td>2800</td>\n",
       "      <td>6</td>\n",
       "      <td>168591.0</td>\n",
       "      <td>47.0</td>\n",
       "      <td>14</td>\n",
       "      <td>7.937375</td>\n",
       "      <td>0</td>\n",
       "      <td>1</td>\n",
       "      <td>0</td>\n",
       "      <td>0</td>\n",
       "      <td>...</td>\n",
       "      <td>0</td>\n",
       "      <td>0</td>\n",
       "      <td>0</td>\n",
       "      <td>1</td>\n",
       "      <td>0</td>\n",
       "      <td>0</td>\n",
       "      <td>0</td>\n",
       "      <td>0</td>\n",
       "      <td>0</td>\n",
       "      <td>0</td>\n",
       "    </tr>\n",
       "    <tr>\n",
       "      <th>3520</th>\n",
       "      <td>12500</td>\n",
       "      <td>4</td>\n",
       "      <td>39500.0</td>\n",
       "      <td>38.0</td>\n",
       "      <td>3</td>\n",
       "      <td>9.433484</td>\n",
       "      <td>0</td>\n",
       "      <td>1</td>\n",
       "      <td>0</td>\n",
       "      <td>0</td>\n",
       "      <td>...</td>\n",
       "      <td>0</td>\n",
       "      <td>0</td>\n",
       "      <td>0</td>\n",
       "      <td>1</td>\n",
       "      <td>0</td>\n",
       "      <td>0</td>\n",
       "      <td>0</td>\n",
       "      <td>0</td>\n",
       "      <td>0</td>\n",
       "      <td>0</td>\n",
       "    </tr>\n",
       "    <tr>\n",
       "      <th>3611</th>\n",
       "      <td>2850</td>\n",
       "      <td>8</td>\n",
       "      <td>14000.0</td>\n",
       "      <td>51.0</td>\n",
       "      <td>36</td>\n",
       "      <td>7.955074</td>\n",
       "      <td>0</td>\n",
       "      <td>1</td>\n",
       "      <td>0</td>\n",
       "      <td>0</td>\n",
       "      <td>...</td>\n",
       "      <td>0</td>\n",
       "      <td>0</td>\n",
       "      <td>0</td>\n",
       "      <td>0</td>\n",
       "      <td>0</td>\n",
       "      <td>0</td>\n",
       "      <td>1</td>\n",
       "      <td>0</td>\n",
       "      <td>0</td>\n",
       "      <td>0</td>\n",
       "    </tr>\n",
       "    <tr>\n",
       "      <th>3613</th>\n",
       "      <td>8100</td>\n",
       "      <td>6</td>\n",
       "      <td>100098.0</td>\n",
       "      <td>67.0</td>\n",
       "      <td>9</td>\n",
       "      <td>8.999619</td>\n",
       "      <td>0</td>\n",
       "      <td>1</td>\n",
       "      <td>0</td>\n",
       "      <td>0</td>\n",
       "      <td>...</td>\n",
       "      <td>0</td>\n",
       "      <td>0</td>\n",
       "      <td>0</td>\n",
       "      <td>0</td>\n",
       "      <td>0</td>\n",
       "      <td>0</td>\n",
       "      <td>1</td>\n",
       "      <td>0</td>\n",
       "      <td>0</td>\n",
       "      <td>0</td>\n",
       "    </tr>\n",
       "  </tbody>\n",
       "</table>\n",
       "<p>5 rows × 37 columns</p>\n",
       "</div>"
      ],
      "text/plain": [
       "      price  cylinders  odometer  weather  age  price_log  fuel_electric  \\\n",
       "3514  11900          6   43600.0     38.0    8   9.384294              0   \n",
       "3517   2800          6  168591.0     47.0   14   7.937375              0   \n",
       "3520  12500          4   39500.0     38.0    3   9.433484              0   \n",
       "3611   2850          8   14000.0     51.0   36   7.955074              0   \n",
       "3613   8100          6  100098.0     67.0    9   8.999619              0   \n",
       "\n",
       "      fuel_gas  fuel_hybrid  fuel_other  ...  paint_color_brown  \\\n",
       "3514         1            0           0  ...                  0   \n",
       "3517         1            0           0  ...                  0   \n",
       "3520         1            0           0  ...                  0   \n",
       "3611         1            0           0  ...                  0   \n",
       "3613         1            0           0  ...                  0   \n",
       "\n",
       "      paint_color_custom  paint_color_green  paint_color_grey  \\\n",
       "3514                   0                  0                 0   \n",
       "3517                   0                  0                 1   \n",
       "3520                   0                  0                 1   \n",
       "3611                   0                  0                 0   \n",
       "3613                   0                  0                 0   \n",
       "\n",
       "      paint_color_orange  paint_color_purple  paint_color_red  \\\n",
       "3514                   0                   0                1   \n",
       "3517                   0                   0                0   \n",
       "3520                   0                   0                0   \n",
       "3611                   0                   0                1   \n",
       "3613                   0                   0                1   \n",
       "\n",
       "      paint_color_silver  paint_color_white  paint_color_yellow  \n",
       "3514                   0                  0                   0  \n",
       "3517                   0                  0                   0  \n",
       "3520                   0                  0                   0  \n",
       "3611                   0                  0                   0  \n",
       "3613                   0                  0                   0  \n",
       "\n",
       "[5 rows x 37 columns]"
      ]
     },
     "execution_count": 51,
     "metadata": {},
     "output_type": "execute_result"
    }
   ],
   "source": [
    "data_conv.head()"
   ]
  },
  {
   "cell_type": "code",
   "execution_count": null,
   "metadata": {},
   "outputs": [],
   "source": [
    "#Bandymas isimti iskirtis su z scores"
   ]
  },
  {
   "cell_type": "code",
   "execution_count": 35,
   "metadata": {},
   "outputs": [],
   "source": [
    "z = stats.zscore(data_conv)"
   ]
  },
  {
   "cell_type": "code",
   "execution_count": 36,
   "metadata": {},
   "outputs": [],
   "source": [
    "data_o = data_conv[(z<3).all(axis=1)]"
   ]
  },
  {
   "cell_type": "code",
   "execution_count": 37,
   "metadata": {},
   "outputs": [
    {
     "data": {
      "text/plain": [
       "(2701, 133)"
      ]
     },
     "execution_count": 37,
     "metadata": {},
     "output_type": "execute_result"
    }
   ],
   "source": [
    "data_o.shape"
   ]
  },
  {
   "cell_type": "code",
   "execution_count": 38,
   "metadata": {
    "collapsed": true
   },
   "outputs": [
    {
     "data": {
      "text/html": [
       "<div>\n",
       "<style scoped>\n",
       "    .dataframe tbody tr th:only-of-type {\n",
       "        vertical-align: middle;\n",
       "    }\n",
       "\n",
       "    .dataframe tbody tr th {\n",
       "        vertical-align: top;\n",
       "    }\n",
       "\n",
       "    .dataframe thead th {\n",
       "        text-align: right;\n",
       "    }\n",
       "</style>\n",
       "<table border=\"1\" class=\"dataframe\">\n",
       "  <thead>\n",
       "    <tr style=\"text-align: right;\">\n",
       "      <th></th>\n",
       "      <th>price</th>\n",
       "      <th>cylinders</th>\n",
       "      <th>odometer</th>\n",
       "      <th>weather</th>\n",
       "      <th>age</th>\n",
       "      <th>state_name_Alaska</th>\n",
       "      <th>state_name_Arizona</th>\n",
       "      <th>state_name_Arkansas</th>\n",
       "      <th>state_name_California</th>\n",
       "      <th>state_name_Colorado</th>\n",
       "      <th>...</th>\n",
       "      <th>paint_color_brown</th>\n",
       "      <th>paint_color_custom</th>\n",
       "      <th>paint_color_green</th>\n",
       "      <th>paint_color_grey</th>\n",
       "      <th>paint_color_orange</th>\n",
       "      <th>paint_color_purple</th>\n",
       "      <th>paint_color_red</th>\n",
       "      <th>paint_color_silver</th>\n",
       "      <th>paint_color_white</th>\n",
       "      <th>paint_color_yellow</th>\n",
       "    </tr>\n",
       "  </thead>\n",
       "  <tbody>\n",
       "    <tr>\n",
       "      <th>count</th>\n",
       "      <td>2701.000000</td>\n",
       "      <td>2701.000000</td>\n",
       "      <td>2701.000000</td>\n",
       "      <td>2701.0</td>\n",
       "      <td>2701.000000</td>\n",
       "      <td>2701.0</td>\n",
       "      <td>2701.0</td>\n",
       "      <td>2701.0</td>\n",
       "      <td>2701.0</td>\n",
       "      <td>2701.0</td>\n",
       "      <td>...</td>\n",
       "      <td>2701.0</td>\n",
       "      <td>2701.0</td>\n",
       "      <td>2701.0</td>\n",
       "      <td>2701.000000</td>\n",
       "      <td>2701.0</td>\n",
       "      <td>2701.0</td>\n",
       "      <td>2701.000000</td>\n",
       "      <td>2701.000000</td>\n",
       "      <td>2701.000000</td>\n",
       "      <td>2701.0</td>\n",
       "    </tr>\n",
       "    <tr>\n",
       "      <th>mean</th>\n",
       "      <td>13440.077009</td>\n",
       "      <td>6.969271</td>\n",
       "      <td>136053.812292</td>\n",
       "      <td>61.0</td>\n",
       "      <td>9.960755</td>\n",
       "      <td>0.0</td>\n",
       "      <td>0.0</td>\n",
       "      <td>0.0</td>\n",
       "      <td>0.0</td>\n",
       "      <td>0.0</td>\n",
       "      <td>...</td>\n",
       "      <td>0.0</td>\n",
       "      <td>0.0</td>\n",
       "      <td>0.0</td>\n",
       "      <td>0.095150</td>\n",
       "      <td>0.0</td>\n",
       "      <td>0.0</td>\n",
       "      <td>0.109219</td>\n",
       "      <td>0.134024</td>\n",
       "      <td>0.374676</td>\n",
       "      <td>0.0</td>\n",
       "    </tr>\n",
       "    <tr>\n",
       "      <th>std</th>\n",
       "      <td>9637.725290</td>\n",
       "      <td>1.432228</td>\n",
       "      <td>68104.216834</td>\n",
       "      <td>0.0</td>\n",
       "      <td>6.112944</td>\n",
       "      <td>0.0</td>\n",
       "      <td>0.0</td>\n",
       "      <td>0.0</td>\n",
       "      <td>0.0</td>\n",
       "      <td>0.0</td>\n",
       "      <td>...</td>\n",
       "      <td>0.0</td>\n",
       "      <td>0.0</td>\n",
       "      <td>0.0</td>\n",
       "      <td>0.293476</td>\n",
       "      <td>0.0</td>\n",
       "      <td>0.0</td>\n",
       "      <td>0.311971</td>\n",
       "      <td>0.340742</td>\n",
       "      <td>0.484129</td>\n",
       "      <td>0.0</td>\n",
       "    </tr>\n",
       "    <tr>\n",
       "      <th>min</th>\n",
       "      <td>170.000000</td>\n",
       "      <td>4.000000</td>\n",
       "      <td>0.000000</td>\n",
       "      <td>61.0</td>\n",
       "      <td>0.000000</td>\n",
       "      <td>0.0</td>\n",
       "      <td>0.0</td>\n",
       "      <td>0.0</td>\n",
       "      <td>0.0</td>\n",
       "      <td>0.0</td>\n",
       "      <td>...</td>\n",
       "      <td>0.0</td>\n",
       "      <td>0.0</td>\n",
       "      <td>0.0</td>\n",
       "      <td>0.000000</td>\n",
       "      <td>0.0</td>\n",
       "      <td>0.0</td>\n",
       "      <td>0.000000</td>\n",
       "      <td>0.000000</td>\n",
       "      <td>0.000000</td>\n",
       "      <td>0.0</td>\n",
       "    </tr>\n",
       "    <tr>\n",
       "      <th>25%</th>\n",
       "      <td>5995.000000</td>\n",
       "      <td>6.000000</td>\n",
       "      <td>90021.000000</td>\n",
       "      <td>61.0</td>\n",
       "      <td>5.000000</td>\n",
       "      <td>0.0</td>\n",
       "      <td>0.0</td>\n",
       "      <td>0.0</td>\n",
       "      <td>0.0</td>\n",
       "      <td>0.0</td>\n",
       "      <td>...</td>\n",
       "      <td>0.0</td>\n",
       "      <td>0.0</td>\n",
       "      <td>0.0</td>\n",
       "      <td>0.000000</td>\n",
       "      <td>0.0</td>\n",
       "      <td>0.0</td>\n",
       "      <td>0.000000</td>\n",
       "      <td>0.000000</td>\n",
       "      <td>0.000000</td>\n",
       "      <td>0.0</td>\n",
       "    </tr>\n",
       "    <tr>\n",
       "      <th>50%</th>\n",
       "      <td>10900.000000</td>\n",
       "      <td>8.000000</td>\n",
       "      <td>134210.000000</td>\n",
       "      <td>61.0</td>\n",
       "      <td>10.000000</td>\n",
       "      <td>0.0</td>\n",
       "      <td>0.0</td>\n",
       "      <td>0.0</td>\n",
       "      <td>0.0</td>\n",
       "      <td>0.0</td>\n",
       "      <td>...</td>\n",
       "      <td>0.0</td>\n",
       "      <td>0.0</td>\n",
       "      <td>0.0</td>\n",
       "      <td>0.000000</td>\n",
       "      <td>0.0</td>\n",
       "      <td>0.0</td>\n",
       "      <td>0.000000</td>\n",
       "      <td>0.000000</td>\n",
       "      <td>0.000000</td>\n",
       "      <td>0.0</td>\n",
       "    </tr>\n",
       "    <tr>\n",
       "      <th>75%</th>\n",
       "      <td>18800.000000</td>\n",
       "      <td>8.000000</td>\n",
       "      <td>179500.000000</td>\n",
       "      <td>61.0</td>\n",
       "      <td>13.000000</td>\n",
       "      <td>0.0</td>\n",
       "      <td>0.0</td>\n",
       "      <td>0.0</td>\n",
       "      <td>0.0</td>\n",
       "      <td>0.0</td>\n",
       "      <td>...</td>\n",
       "      <td>0.0</td>\n",
       "      <td>0.0</td>\n",
       "      <td>0.0</td>\n",
       "      <td>0.000000</td>\n",
       "      <td>0.0</td>\n",
       "      <td>0.0</td>\n",
       "      <td>0.000000</td>\n",
       "      <td>0.000000</td>\n",
       "      <td>1.000000</td>\n",
       "      <td>0.0</td>\n",
       "    </tr>\n",
       "    <tr>\n",
       "      <th>max</th>\n",
       "      <td>43000.000000</td>\n",
       "      <td>10.000000</td>\n",
       "      <td>484138.000000</td>\n",
       "      <td>61.0</td>\n",
       "      <td>35.000000</td>\n",
       "      <td>0.0</td>\n",
       "      <td>0.0</td>\n",
       "      <td>0.0</td>\n",
       "      <td>0.0</td>\n",
       "      <td>0.0</td>\n",
       "      <td>...</td>\n",
       "      <td>0.0</td>\n",
       "      <td>0.0</td>\n",
       "      <td>0.0</td>\n",
       "      <td>1.000000</td>\n",
       "      <td>0.0</td>\n",
       "      <td>0.0</td>\n",
       "      <td>1.000000</td>\n",
       "      <td>1.000000</td>\n",
       "      <td>1.000000</td>\n",
       "      <td>0.0</td>\n",
       "    </tr>\n",
       "  </tbody>\n",
       "</table>\n",
       "<p>8 rows × 133 columns</p>\n",
       "</div>"
      ],
      "text/plain": [
       "              price    cylinders       odometer  weather          age  \\\n",
       "count   2701.000000  2701.000000    2701.000000   2701.0  2701.000000   \n",
       "mean   13440.077009     6.969271  136053.812292     61.0     9.960755   \n",
       "std     9637.725290     1.432228   68104.216834      0.0     6.112944   \n",
       "min      170.000000     4.000000       0.000000     61.0     0.000000   \n",
       "25%     5995.000000     6.000000   90021.000000     61.0     5.000000   \n",
       "50%    10900.000000     8.000000  134210.000000     61.0    10.000000   \n",
       "75%    18800.000000     8.000000  179500.000000     61.0    13.000000   \n",
       "max    43000.000000    10.000000  484138.000000     61.0    35.000000   \n",
       "\n",
       "       state_name_Alaska  state_name_Arizona  state_name_Arkansas  \\\n",
       "count             2701.0              2701.0               2701.0   \n",
       "mean                 0.0                 0.0                  0.0   \n",
       "std                  0.0                 0.0                  0.0   \n",
       "min                  0.0                 0.0                  0.0   \n",
       "25%                  0.0                 0.0                  0.0   \n",
       "50%                  0.0                 0.0                  0.0   \n",
       "75%                  0.0                 0.0                  0.0   \n",
       "max                  0.0                 0.0                  0.0   \n",
       "\n",
       "       state_name_California  state_name_Colorado  ...  paint_color_brown  \\\n",
       "count                 2701.0               2701.0  ...             2701.0   \n",
       "mean                     0.0                  0.0  ...                0.0   \n",
       "std                      0.0                  0.0  ...                0.0   \n",
       "min                      0.0                  0.0  ...                0.0   \n",
       "25%                      0.0                  0.0  ...                0.0   \n",
       "50%                      0.0                  0.0  ...                0.0   \n",
       "75%                      0.0                  0.0  ...                0.0   \n",
       "max                      0.0                  0.0  ...                0.0   \n",
       "\n",
       "       paint_color_custom  paint_color_green  paint_color_grey  \\\n",
       "count              2701.0             2701.0       2701.000000   \n",
       "mean                  0.0                0.0          0.095150   \n",
       "std                   0.0                0.0          0.293476   \n",
       "min                   0.0                0.0          0.000000   \n",
       "25%                   0.0                0.0          0.000000   \n",
       "50%                   0.0                0.0          0.000000   \n",
       "75%                   0.0                0.0          0.000000   \n",
       "max                   0.0                0.0          1.000000   \n",
       "\n",
       "       paint_color_orange  paint_color_purple  paint_color_red  \\\n",
       "count              2701.0              2701.0      2701.000000   \n",
       "mean                  0.0                 0.0         0.109219   \n",
       "std                   0.0                 0.0         0.311971   \n",
       "min                   0.0                 0.0         0.000000   \n",
       "25%                   0.0                 0.0         0.000000   \n",
       "50%                   0.0                 0.0         0.000000   \n",
       "75%                   0.0                 0.0         0.000000   \n",
       "max                   0.0                 0.0         1.000000   \n",
       "\n",
       "       paint_color_silver  paint_color_white  paint_color_yellow  \n",
       "count         2701.000000        2701.000000              2701.0  \n",
       "mean             0.134024           0.374676                 0.0  \n",
       "std              0.340742           0.484129                 0.0  \n",
       "min              0.000000           0.000000                 0.0  \n",
       "25%              0.000000           0.000000                 0.0  \n",
       "50%              0.000000           0.000000                 0.0  \n",
       "75%              0.000000           1.000000                 0.0  \n",
       "max              1.000000           1.000000                 0.0  \n",
       "\n",
       "[8 rows x 133 columns]"
      ]
     },
     "execution_count": 38,
     "metadata": {},
     "output_type": "execute_result"
    }
   ],
   "source": [
    "data_o.describe()"
   ]
  },
  {
   "cell_type": "code",
   "execution_count": 52,
   "metadata": {},
   "outputs": [],
   "source": [
    "ss = StandardScaler()\n",
    "ss.fit(data_conv)\n",
    "data_conv = ss.transform(data_conv)"
   ]
  },
  {
   "cell_type": "code",
   "execution_count": 53,
   "metadata": {},
   "outputs": [],
   "source": [
    "km = KMeans(n_clusters = 6)\n",
    "km = km.fit(data_conv)"
   ]
  },
  {
   "cell_type": "code",
   "execution_count": 54,
   "metadata": {},
   "outputs": [
    {
     "data": {
      "text/html": [
       "<div>\n",
       "<style scoped>\n",
       "    .dataframe tbody tr th:only-of-type {\n",
       "        vertical-align: middle;\n",
       "    }\n",
       "\n",
       "    .dataframe tbody tr th {\n",
       "        vertical-align: top;\n",
       "    }\n",
       "\n",
       "    .dataframe thead th {\n",
       "        text-align: right;\n",
       "    }\n",
       "</style>\n",
       "<table border=\"1\" class=\"dataframe\">\n",
       "  <thead>\n",
       "    <tr style=\"text-align: right;\">\n",
       "      <th></th>\n",
       "      <th>state_name</th>\n",
       "      <th>manufacturer</th>\n",
       "      <th>price</th>\n",
       "      <th>cylinders</th>\n",
       "      <th>fuel</th>\n",
       "      <th>odometer</th>\n",
       "      <th>transmission</th>\n",
       "      <th>drive</th>\n",
       "      <th>type</th>\n",
       "      <th>paint_color</th>\n",
       "      <th>weather</th>\n",
       "      <th>age</th>\n",
       "      <th>price_log</th>\n",
       "      <th>Cluster</th>\n",
       "    </tr>\n",
       "  </thead>\n",
       "  <tbody>\n",
       "    <tr>\n",
       "      <th>3514</th>\n",
       "      <td>South Dakota</td>\n",
       "      <td>dodge</td>\n",
       "      <td>11900</td>\n",
       "      <td>6</td>\n",
       "      <td>gas</td>\n",
       "      <td>43600.0</td>\n",
       "      <td>automatic</td>\n",
       "      <td>rwd</td>\n",
       "      <td>coupe</td>\n",
       "      <td>red</td>\n",
       "      <td>38.0</td>\n",
       "      <td>8</td>\n",
       "      <td>9.384294</td>\n",
       "      <td>1</td>\n",
       "    </tr>\n",
       "    <tr>\n",
       "      <th>3517</th>\n",
       "      <td>Iowa</td>\n",
       "      <td>ford</td>\n",
       "      <td>2800</td>\n",
       "      <td>6</td>\n",
       "      <td>gas</td>\n",
       "      <td>168591.0</td>\n",
       "      <td>automatic</td>\n",
       "      <td>fwd</td>\n",
       "      <td>sedan</td>\n",
       "      <td>grey</td>\n",
       "      <td>47.0</td>\n",
       "      <td>14</td>\n",
       "      <td>7.937375</td>\n",
       "      <td>5</td>\n",
       "    </tr>\n",
       "    <tr>\n",
       "      <th>3520</th>\n",
       "      <td>South Dakota</td>\n",
       "      <td>jeep</td>\n",
       "      <td>12500</td>\n",
       "      <td>4</td>\n",
       "      <td>gas</td>\n",
       "      <td>39500.0</td>\n",
       "      <td>automatic</td>\n",
       "      <td>4wd</td>\n",
       "      <td>SUV</td>\n",
       "      <td>grey</td>\n",
       "      <td>38.0</td>\n",
       "      <td>3</td>\n",
       "      <td>9.433484</td>\n",
       "      <td>4</td>\n",
       "    </tr>\n",
       "    <tr>\n",
       "      <th>3611</th>\n",
       "      <td>Kansas</td>\n",
       "      <td>chevrolet</td>\n",
       "      <td>2850</td>\n",
       "      <td>8</td>\n",
       "      <td>gas</td>\n",
       "      <td>14000.0</td>\n",
       "      <td>manual</td>\n",
       "      <td>rwd</td>\n",
       "      <td>pickup</td>\n",
       "      <td>red</td>\n",
       "      <td>51.0</td>\n",
       "      <td>36</td>\n",
       "      <td>7.955074</td>\n",
       "      <td>1</td>\n",
       "    </tr>\n",
       "    <tr>\n",
       "      <th>3613</th>\n",
       "      <td>Texas</td>\n",
       "      <td>cadillac</td>\n",
       "      <td>8100</td>\n",
       "      <td>6</td>\n",
       "      <td>gas</td>\n",
       "      <td>100098.0</td>\n",
       "      <td>automatic</td>\n",
       "      <td>rwd</td>\n",
       "      <td>sedan</td>\n",
       "      <td>red</td>\n",
       "      <td>67.0</td>\n",
       "      <td>9</td>\n",
       "      <td>8.999619</td>\n",
       "      <td>1</td>\n",
       "    </tr>\n",
       "  </tbody>\n",
       "</table>\n",
       "</div>"
      ],
      "text/plain": [
       "        state_name manufacturer  price  cylinders fuel  odometer transmission  \\\n",
       "3514  South Dakota        dodge  11900          6  gas   43600.0    automatic   \n",
       "3517          Iowa         ford   2800          6  gas  168591.0    automatic   \n",
       "3520  South Dakota         jeep  12500          4  gas   39500.0    automatic   \n",
       "3611        Kansas    chevrolet   2850          8  gas   14000.0       manual   \n",
       "3613         Texas     cadillac   8100          6  gas  100098.0    automatic   \n",
       "\n",
       "     drive    type paint_color  weather  age  price_log  Cluster  \n",
       "3514   rwd   coupe         red     38.0    8   9.384294        1  \n",
       "3517   fwd   sedan        grey     47.0   14   7.937375        5  \n",
       "3520   4wd     SUV        grey     38.0    3   9.433484        4  \n",
       "3611   rwd  pickup         red     51.0   36   7.955074        1  \n",
       "3613   rwd   sedan         red     67.0    9   8.999619        1  "
      ]
     },
     "execution_count": 54,
     "metadata": {},
     "output_type": "execute_result"
    }
   ],
   "source": [
    "data['Cluster'] = km.labels_\n",
    "data.head()"
   ]
  },
  {
   "cell_type": "code",
   "execution_count": null,
   "metadata": {},
   "outputs": [],
   "source": []
  },
  {
   "cell_type": "code",
   "execution_count": 79,
   "metadata": {},
   "outputs": [],
   "source": [
    "#data.drop('Cluster', axis = 1, inplace=True)\n"
   ]
  },
  {
   "cell_type": "code",
   "execution_count": 56,
   "metadata": {},
   "outputs": [],
   "source": [
    "sum_of_squared_distances = []\n",
    "\n",
    "k_range = range(1, 10)\n",
    "\n",
    "for k in k_range:\n",
    "    km = KMeans(n_clusters = k)\n",
    "    km = km.fit(data_conv)\n",
    "    sum_of_squared_distances.append(km.inertia_)"
   ]
  },
  {
   "cell_type": "code",
   "execution_count": 57,
   "metadata": {},
   "outputs": [
    {
     "data": {
      "text/plain": [
       "Text(0, 0.5, 'sum_of_squared_distances')"
      ]
     },
     "execution_count": 57,
     "metadata": {},
     "output_type": "execute_result"
    },
    {
     "data": {
      "image/png": "[encoded data removed]",
      "text/plain": [
       "<Figure size 432x288 with 1 Axes>"
      ]
     },
     "metadata": {
      "needs_background": "light"
     },
     "output_type": "display_data"
    }
   ],
   "source": [
    "plt.plot(k_range, sum_of_squared_distances, 'bx-')\n",
    "plt.xlabel('k')\n",
    "plt.ylabel('sum_of_squared_distances')"
   ]
  },
  {
   "cell_type": "code",
   "execution_count": 55,
   "metadata": {},
   "outputs": [
    {
     "data": {
      "text/plain": [
       "<matplotlib.axes._subplots.AxesSubplot at 0x240819ceef0>"
      ]
     },
     "execution_count": 55,
     "metadata": {},
     "output_type": "execute_result"
    },
    {
     "data": {
      "image/png": "[encoded data removed]",
      "text/plain": [
       "<Figure size 1080x720 with 1 Axes>"
      ]
     },
     "metadata": {
      "needs_background": "light"
     },
     "output_type": "display_data"
    }
   ],
   "source": [
    "means = data.groupby('Cluster').mean()\n",
    "means.plot(kind = 'bar', figsize = [15,10])"
   ]
  },
  {
   "cell_type": "code",
   "execution_count": null,
   "metadata": {},
   "outputs": [],
   "source": []
  },
  {
   "cell_type": "code",
   "execution_count": null,
   "metadata": {},
   "outputs": [],
   "source": []
  },
  {
   "cell_type": "code",
   "execution_count": null,
   "metadata": {},
   "outputs": [],
   "source": []
  },
  {
   "cell_type": "code",
   "execution_count": null,
   "metadata": {},
   "outputs": [],
   "source": []
  },
  {
   "cell_type": "code",
   "execution_count": null,
   "metadata": {},
   "outputs": [],
   "source": []
  },
  {
   "cell_type": "code",
   "execution_count": null,
   "metadata": {},
   "outputs": [],
   "source": []
  }
 ],
 "metadata": {
  "kernelspec": {
   "display_name": "Python 3",
   "language": "python",
   "name": "python3"
  },
  "language_info": {
   "codemirror_mode": {
    "name": "ipython",
    "version": 3
   },
   "file_extension": ".py",
   "mimetype": "text/x-python",
   "name": "python",
   "nbconvert_exporter": "python",
   "pygments_lexer": "ipython3",
   "version": "3.7.3"
  }
 },
 "nbformat": 4,
 "nbformat_minor": 2
}
